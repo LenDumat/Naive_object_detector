{
 "cells": [
  {
   "cell_type": "code",
   "execution_count": 1,
   "metadata": {},
   "outputs": [],
   "source": [
    "from PIL import Image\n",
    "import os"
   ]
  },
  {
   "cell_type": "code",
   "execution_count": 2,
   "metadata": {},
   "outputs": [],
   "source": [
    "def crop(image_path, save_path, coords):\n",
    "    image = Image.open(image_path)\n",
    "    cropped_image = image.crop(coords)\n",
    "    cropped_image = cropped_image.save(save_path)"
   ]
  },
  {
   "cell_type": "code",
   "execution_count": 3,
   "metadata": {},
   "outputs": [],
   "source": [
    "path = os.getcwd() + '/Data'\n",
    "for i in range(1, 42):\n",
    "    crop(path + '/cropped_screenshots/' + str(i) + '.png', path + '/grid_screenshots/' + str(i) + '_1' + '.png',(0,0,350,250))\n",
    "    crop(path + '/cropped_screenshots/' + str(i) + '.png', path + '/grid_screenshots/' + str(i) + '_2' + '.png',(350,0,700,250))\n",
    "    crop(path + '/cropped_screenshots/' + str(i) + '.png', path + '/grid_screenshots/' + str(i) + '_3' + '.png',(700,0,1050,250))\n",
    "    crop(path + '/cropped_screenshots/' + str(i) + '.png', path + '/grid_screenshots/' + str(i) + '_4' + '.png',(1050,0,1400,250))\n",
    "    crop(path + '/cropped_screenshots/' + str(i) + '.png', path + '/grid_screenshots/' + str(i) + '_5' + '.png',(1400,0,1750,250))\n",
    "    crop(path + '/cropped_screenshots/' + str(i) + '.png', path + '/grid_screenshots/' + str(i) + '_6' + '.png',(0,250,350,500))\n",
    "    crop(path + '/cropped_screenshots/' + str(i) + '.png', path + '/grid_screenshots/' + str(i) + '_7' + '.png',(350,250,700,500))\n",
    "    crop(path + '/cropped_screenshots/' + str(i) + '.png', path + '/grid_screenshots/' + str(i) + '_8' + '.png',(700,250,1050,500))\n",
    "    crop(path + '/cropped_screenshots/' + str(i) + '.png', path + '/grid_screenshots/' + str(i) + '_9' + '.png',(1050,250,1400,500))\n",
    "    crop(path + '/cropped_screenshots/' + str(i) + '.png', path + '/grid_screenshots/' + str(i) + '_10' + '.png',(1400,250,1750,500))\n",
    "    crop(path + '/cropped_screenshots/' + str(i) + '.png', path + '/grid_screenshots/' + str(i) + '_11' + '.png',(0,500,350,750))\n",
    "    crop(path + '/cropped_screenshots/' + str(i) + '.png', path + '/grid_screenshots/' + str(i) + '_12' + '.png',(350,500,700,750))\n",
    "    crop(path + '/cropped_screenshots/' + str(i) + '.png', path + '/grid_screenshots/' + str(i) + '_13' + '.png',(700,500,1050,750))\n",
    "    crop(path + '/cropped_screenshots/' + str(i) + '.png', path + '/grid_screenshots/' + str(i) + '_14' + '.png',(1050,500,1400,750))\n",
    "    crop(path + '/cropped_screenshots/' + str(i) + '.png', path + '/grid_screenshots/' + str(i) + '_15' + '.png',(1400,500,1750,750))"
   ]
  },
  {
   "cell_type": "code",
   "execution_count": 4,
   "metadata": {},
   "outputs": [],
   "source": [
    "i = 10\n",
    "image = Image.open(path + '/cropped_screenshots/' + str(i) + '.png')\n",
    "img = Image.new('RGB', (1750, 750))\n",
    "img1 = Image.open(path + '/grid_screenshots/' + str(i) + '_1' + '.png')\n",
    "img2 = Image.open(path + '/grid_screenshots/' + str(i) + '_2' + '.png')\n",
    "img3 = Image.open(path + '/grid_screenshots/' + str(i) + '_3' + '.png')\n",
    "img4 = Image.open(path + '/grid_screenshots/' + str(i) + '_4' + '.png')\n",
    "img5 = Image.open(path + '/grid_screenshots/' + str(i) + '_5' + '.png')\n",
    "img6 = Image.open(path + '/grid_screenshots/' + str(i) + '_6' + '.png')\n",
    "img7 = Image.open(path + '/grid_screenshots/' + str(i) + '_7' + '.png')\n",
    "img8 = Image.open(path + '/grid_screenshots/' + str(i) + '_8' + '.png')\n",
    "img9 = Image.open(path + '/grid_screenshots/' + str(i) + '_9' + '.png')\n",
    "img10 = Image.open(path + '/grid_screenshots/' + str(i) + '_10' + '.png')\n",
    "img11 = Image.open(path + '/grid_screenshots/' + str(i) + '_11' + '.png')\n",
    "img12 = Image.open(path + '/grid_screenshots/' + str(i) + '_12' + '.png')\n",
    "img13 = Image.open(path + '/grid_screenshots/' + str(i) + '_13' + '.png')\n",
    "img14 = Image.open(path + '/grid_screenshots/' + str(i) + '_14' + '.png')\n",
    "img15 = Image.open(path + '/grid_screenshots/' + str(i) + '_15' + '.png')\n",
    "img.paste(img1, (0,0))\n",
    "img.paste(img2, (350,0))\n",
    "img.paste(img3, (700,0))\n",
    "img.paste(img4, (1050,0))\n",
    "img.paste(img5, (1400,0))\n",
    "img.paste(img6, (0,250))\n",
    "img.paste(img7, (350,250))\n",
    "img.paste(img8, (700,250))\n",
    "img.paste(img9, (1050,250))\n",
    "img.paste(img10, (1400,250))\n",
    "img.paste(img11, (0,500))\n",
    "img.paste(img12, (350,500))\n",
    "img.paste(img13, (700,500))\n",
    "img.paste(img14, (1050,500))\n",
    "img.paste(img15, (1400,500))\n",
    "\n",
    "image.show() \n",
    "img.show()"
   ]
  },
  {
   "cell_type": "code",
   "execution_count": null,
   "metadata": {},
   "outputs": [],
   "source": []
  }
 ],
 "metadata": {
  "kernelspec": {
   "display_name": "Python 3",
   "language": "python",
   "name": "python3"
  },
  "language_info": {
   "codemirror_mode": {
    "name": "ipython",
    "version": 3
   },
   "file_extension": ".py",
   "mimetype": "text/x-python",
   "name": "python",
   "nbconvert_exporter": "python",
   "pygments_lexer": "ipython3",
   "version": "3.6.9"
  }
 },
 "nbformat": 4,
 "nbformat_minor": 4
}
